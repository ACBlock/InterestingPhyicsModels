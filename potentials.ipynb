{
 "cells": [
  {
   "cell_type": "code",
   "execution_count": 20,
   "metadata": {},
   "outputs": [],
   "source": [
    "import numpy as np\n",
    "import matplotlib.pyplot as plt\n",
    "from matplotlib import animation\n",
    "from mpl_toolkits.mplot3d import Axes3D\n",
    "from matplotlib.animation import PillowWriter\n",
    "from matplotlib import cm\n",
    "from skimage import color\n",
    "from skimage import io\n",
    "import numba\n",
    "from numba import jit\n",
    "import time"
   ]
  },
  {
   "cell_type": "markdown",
   "metadata": {},
   "source": [
    "Boundaries"
   ]
  },
  {
   "cell_type": "code",
   "execution_count": 10,
   "metadata": {},
   "outputs": [],
   "source": [
    "edge = np.linspace(-1, 1, 300)\n",
    "upper_y = np.cos(np.pi*edge/2)\n",
    "lower_y = edge**4\n",
    "upper_x = 1/(np.e**(-1) - np.e) * (np.exp(edge) - np.e)\n",
    "lower_x = 0.5*(edge**2 - edge)"
   ]
  },
  {
   "cell_type": "markdown",
   "metadata": {},
   "source": [
    "Meshgrid"
   ]
  },
  {
   "cell_type": "code",
   "execution_count": 11,
   "metadata": {},
   "outputs": [],
   "source": [
    "xv, yv = np.meshgrid(edge, edge)"
   ]
  },
  {
   "cell_type": "code",
   "execution_count": 32,
   "metadata": {},
   "outputs": [],
   "source": [
    "@numba.jit(\"f8[:,:], i8\", nopython=True, nogil=True)\n",
    "def compute_potential(potential, n_iter):\n",
    "    length = len(potential[0])\n",
    "    for n in range(n_iter):\n",
    "        for i in range(1, length-1):\n",
    "            for j in range(1, length-1):\n",
    "                potential[i][j] = (1/4)*(potential[j+1][i] + potential[j-1][i] + potential[j][i+1] + potential[j][i-1])\n",
    "    return potential"
   ]
  },
  {
   "cell_type": "code",
   "execution_count": 33,
   "metadata": {},
   "outputs": [],
   "source": [
    "potential = np.zeros((300,300))\n",
    "potential[0,:] = lower_y\n",
    "potential[-1,:] = upper_y\n",
    "potential[:,0] = lower_x\n",
    "potential[:,-1] = upper_x"
   ]
  },
  {
   "cell_type": "code",
   "execution_count": 34,
   "metadata": {},
   "outputs": [
    {
     "name": "stdout",
     "output_type": "stream",
     "text": [
      "0.7323348522186279\n"
     ]
    }
   ],
   "source": [
    "t0 = time.time()\n",
    "potential = compute_potential(potential, n_iter=10000)\n",
    "t1 = time.time()\n",
    "print(t1-t0)"
   ]
  },
  {
   "cell_type": "code",
   "execution_count": 35,
   "metadata": {},
   "outputs": [
    {
     "data": {
      "text/plain": [
       "array([[ 1.        ,  0.97351141,  0.94755256, ...,  0.94755256,\n",
       "         0.97351141,  1.        ],\n",
       "       [ 0.98998893,  0.96497969,  0.95124775, ...,  0.43364054,\n",
       "         0.26669527,  0.99894955],\n",
       "       [ 0.98002259,  0.94517068,  0.93251944, ...,  0.4927463 ,\n",
       "         0.45085432,  0.99789205],\n",
       "       ...,\n",
       "       [-0.00659948,  0.51906008,  0.47130673, ...,  0.03524096,\n",
       "         0.0272347 ,  0.01536878],\n",
       "       [-0.00332211,  0.71423895,  0.5405363 , ...,  0.02618623,\n",
       "         0.01790946,  0.00771009],\n",
       "       [ 0.        ,  0.01050681,  0.02101245, ...,  0.02101245,\n",
       "         0.01050681, -0.        ]])"
      ]
     },
     "execution_count": 35,
     "metadata": {},
     "output_type": "execute_result"
    }
   ],
   "source": [
    "potential"
   ]
  },
  {
   "cell_type": "code",
   "execution_count": 36,
   "metadata": {},
   "outputs": [
    {
     "data": {
      "text/plain": [
       "<matplotlib.contour.QuadContourSet at 0x1f6d4727670>"
      ]
     },
     "execution_count": 36,
     "metadata": {},
     "output_type": "execute_result"
    },
    {
     "data": {
      "image/png": "[encoded data removed]",
      "text/plain": [
       "<Figure size 432x288 with 1 Axes>"
      ]
     },
     "metadata": {
      "needs_background": "light"
     },
     "output_type": "display_data"
    }
   ],
   "source": [
    "plt.contourf(xv, yv, potential, 30)"
   ]
  },
  {
   "cell_type": "markdown",
   "metadata": {},
   "source": [
    "With a Block of fixed potential"
   ]
  },
  {
   "cell_type": "code",
   "execution_count": 24,
   "metadata": {},
   "outputs": [],
   "source": [
    "def potential_block(x, y):\n",
    "    return np.select([(x>0.5)*(x<0.7)*(y>0.5)*(y<0.7), \n",
    "                     (x<=0.5)+(x>=0.7)+(y<=0.5)+(y>0.7)],\n",
    "                    [1,0])"
   ]
  },
  {
   "cell_type": "code",
   "execution_count": 25,
   "metadata": {},
   "outputs": [
    {
     "data": {
      "text/plain": [
       "<matplotlib.contour.QuadContourSet at 0x247ef77cc10>"
      ]
     },
     "execution_count": 25,
     "metadata": {},
     "output_type": "execute_result"
    },
    {
     "data": {
      "image/png": "[encoded data removed]",
      "text/plain": [
       "<Figure size 432x288 with 1 Axes>"
      ]
     },
     "metadata": {
      "needs_background": "light"
     },
     "output_type": "display_data"
    }
   ],
   "source": [
    "plt.contourf(xv,yv, potential_block(xv, yv))"
   ]
  },
  {
   "cell_type": "code",
   "execution_count": 26,
   "metadata": {},
   "outputs": [],
   "source": [
    "fixed = potential_block(xv, yv)\n",
    "fixed_bool = fixed!=0"
   ]
  },
  {
   "cell_type": "code",
   "execution_count": 30,
   "metadata": {},
   "outputs": [],
   "source": [
    "@numba.jit(\"f8[:,:](f8[:,:], b1[:,:], i8)\", nopython=True, nogil=True)\n",
    "def compute_potential(potential, fixed_bool, n_iter):\n",
    "    length = len(potential[0])\n",
    "    for n in range(n_iter):\n",
    "        for i in range(1, length-1):\n",
    "            for j in range(1, length-1):\n",
    "                if not(fixed_bool[j][i]):\n",
    "                    potential[i][j] = (1/4)*(potential[j+1][i] + potential[j-1][i] + potential[j][i+1] + potential[j][i-1])\n",
    "    return potential"
   ]
  },
  {
   "cell_type": "code",
   "execution_count": 31,
   "metadata": {},
   "outputs": [],
   "source": [
    "potential = np.zeros((300,300))\n",
    "potential[0,:] = lower_y\n",
    "potential[-1,:] = upper_y\n",
    "potential[:,0] = lower_x\n",
    "potential[:,-1] = upper_x\n",
    "potential[fixed_bool] = fixed[fixed_bool]\n",
    "potential = compute_potential(potential, fixed_bool, n_iter=10000)"
   ]
  },
  {
   "cell_type": "code",
   "execution_count": 34,
   "metadata": {},
   "outputs": [
    {
     "data": {
      "image/png": "[encoded data removed]",
      "text/plain": [
       "<Figure size 432x288 with 1 Axes>"
      ]
     },
     "metadata": {
      "needs_background": "light"
     },
     "output_type": "display_data"
    }
   ],
   "source": [
    "plt.contourf(xv, yv, potential, 30)\n",
    "plt.savefig(\"square_potential\")"
   ]
  },
  {
   "cell_type": "code",
   "execution_count": null,
   "metadata": {},
   "outputs": [],
   "source": []
  }
 ],
 "metadata": {
  "kernelspec": {
   "display_name": "Python 3",
   "language": "python",
   "name": "python3"
  },
  "language_info": {
   "codemirror_mode": {
    "name": "ipython",
    "version": 3
   },
   "file_extension": ".py",
   "mimetype": "text/x-python",
   "name": "python",
   "nbconvert_exporter": "python",
   "pygments_lexer": "ipython3",
   "version": "3.8.5"
  }
 },
 "nbformat": 4,
 "nbformat_minor": 4
}
